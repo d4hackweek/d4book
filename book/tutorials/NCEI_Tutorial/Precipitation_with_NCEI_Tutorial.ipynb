{
 "cells": [
  {
   "cell_type": "markdown",
   "id": "a35011c5",
   "metadata": {},
   "source": [
    "# Precipation Data with NCEI Tutorial\n",
    "\n",
    "This notebook has been developed to access point-based (by weather station) precipation data in the Global Historical Climatology Network Daily (GHCND) dataset available by API in NCEI's Climate Data Online (CDO).  \n",
    "\n",
    "You will first need to obtain a token which can be requested here: https://www.ncdc.noaa.gov/cdo-web/token (response is quick, if not immediate)"
   ]
  },
  {
   "cell_type": "code",
   "id": "16c6a896",
   "metadata": {
    "ExecuteTime": {
     "end_time": "2024-08-23T23:06:24.452711Z",
     "start_time": "2024-08-23T23:06:24.449817Z"
    }
   },
   "source": [
    "import pandas as pd\n",
    "import requests\n",
    "import time\n",
    "import matplotlib.pyplot as plt\n",
    "import os"
   ],
   "outputs": [],
   "execution_count": 2
  },
  {
   "cell_type": "code",
   "id": "d0f02f84",
   "metadata": {
    "ExecuteTime": {
     "end_time": "2024-08-23T23:06:54.760982Z",
     "start_time": "2024-08-23T23:06:54.754945Z"
    }
   },
   "source": [
    "if \"NCDC_CDO_TOKEN\" in os.environ.keys():\n",
    "    api_token = os.environ['NCDC_CDO_TOKEN']\n",
    "else:\n",
    "    api_token = \"your_token_here\""
   ],
   "outputs": [
    {
     "name": "stdout",
     "output_type": "stream",
     "text": [
      "your_token_here\n"
     ]
    }
   ],
   "execution_count": 4
  },
  {
   "cell_type": "markdown",
   "id": "9454386e",
   "metadata": {},
   "source": [
    "## Exploring the Datasets\n",
    "\n",
    "There are a variety of useful datasets in CDO, let's take a look.  Alternatively, you can explore the datasets at https://www.ncei.noaa.gov/cdo-web/datasets."
   ]
  },
  {
   "cell_type": "code",
   "id": "fcd96e19",
   "metadata": {
    "ExecuteTime": {
     "end_time": "2024-08-23T22:35:05.356673Z",
     "start_time": "2024-08-23T22:35:05.353529Z"
    }
   },
   "source": [
    "# First let's get a list of all datasets using the Base URL for the datasets endpoint\n",
    "url = \"https://www.ncei.noaa.gov/cdo-web/api/v2/datasets\""
   ],
   "outputs": [],
   "execution_count": 3
  },
  {
   "cell_type": "code",
   "id": "8a4dea73",
   "metadata": {
    "ExecuteTime": {
     "end_time": "2024-08-23T22:35:10.163068Z",
     "start_time": "2024-08-23T22:35:09.948909Z"
    }
   },
   "source": [
    "# Define the headers with the token\n",
    "headers = {\n",
    "    'token': api_token\n",
    "}\n",
    "\n",
    "# Make the request to the API\n",
    "response = requests.get(url, headers=headers)"
   ],
   "outputs": [],
   "execution_count": 5
  },
  {
   "cell_type": "code",
   "id": "5f532afa",
   "metadata": {
    "ExecuteTime": {
     "end_time": "2024-08-23T22:35:11.696136Z",
     "start_time": "2024-08-23T22:35:11.480345Z"
    }
   },
   "source": [
    "# Define the headers with the token\n",
    "headers = {\n",
    "    'token': api_token\n",
    "}\n",
    "\n",
    "# Make the request to the API\n",
    "response = requests.get(url, headers=headers)\n",
    "\n",
    "# Check if the request was successful\n",
    "if response.status_code == 200:\n",
    "    # Parse the JSON response\n",
    "    data = response.json()\n",
    "    \n",
    "    # Ensure the 'results' key exists in the response\n",
    "    if 'results' in data:\n",
    "        datasets = data['results']\n",
    "        \n",
    "        # Print the available datasets\n",
    "        for dataset in datasets:\n",
    "            print(f\"ID: {dataset.get('id', 'N/A')}\")\n",
    "            print(f\"Name: {dataset.get('name', 'N/A')}\")\n",
    "            print(f\"Description: {dataset.get('description', 'No description available')}\")\n",
    "            print(f\"Min Date: {dataset.get('mindate', 'N/A')}\")\n",
    "            print(f\"Max Date: {dataset.get('maxdate', 'N/A')}\")\n",
    "            print(f\"Coverage: {dataset.get('coverage', 'N/A')}\")\n",
    "            print(\"-----------\")\n",
    "    else:\n",
    "        print(\"No datasets found in the response.\")\n",
    "else:\n",
    "    print(f\"Failed to retrieve data: {response.status_code}, {response.text}\")"
   ],
   "outputs": [
    {
     "name": "stdout",
     "output_type": "stream",
     "text": [
      "Failed to retrieve data: 400, {\"status\" : \"400\", \"message\" : \"The token parameter provided is not valid.\"}\n"
     ]
    }
   ],
   "execution_count": 6
  },
  {
   "cell_type": "markdown",
   "id": "58b81113",
   "metadata": {},
   "source": [
    "### Let's look closer at the variables in GHCND (Global Historical Climatology Network-Daily)\n",
    "\n",
    "Besides precipitation, what else is available in the GHCND?  Full documentation on GHCND is also available at https://www.ncei.noaa.gov/data/global-historical-climatology-network-daily/doc/GHCND_documentation.pdf."
   ]
  },
  {
   "cell_type": "code",
   "id": "186c1de8",
   "metadata": {
    "ExecuteTime": {
     "end_time": "2024-08-23T22:35:20.813593Z",
     "start_time": "2024-08-23T22:35:20.606964Z"
    }
   },
   "source": [
    "# Example dataset ID (replace with the dataset ID you want to explore)\n",
    "dataset_id = \"GHCND\"  # Replace with actual dataset ID\n",
    "\n",
    "# Base URL for the datatypes endpoint\n",
    "datatypes_url = f\"https://www.ncei.noaa.gov/cdo-web/api/v2/datatypes\"\n",
    "\n",
    "# Define the parameters to filter by the dataset ID\n",
    "params = {\n",
    "    'datasetid': dataset_id\n",
    "}\n",
    "\n",
    "# Make the request to the API to get datatypes for the specified dataset\n",
    "response = requests.get(datatypes_url, headers=headers, params=params)\n",
    "\n",
    "# Check if the request was successful\n",
    "if response.status_code == 200:\n",
    "    # Parse the JSON response\n",
    "    datatypes = response.json().get('results', [])\n",
    "    \n",
    "    # Print available datatypes for the specified dataset\n",
    "    for datatype in datatypes:\n",
    "        print(f\"ID: {datatype.get('id', 'N/A')} - Name: {datatype.get('name', 'N/A')} - Description: {datatype.get('description', 'No description available')}\")\n",
    "else:\n",
    "    print(f\"Failed to retrieve datatypes: {response.status_code}, {response.text}\")"
   ],
   "outputs": [
    {
     "name": "stdout",
     "output_type": "stream",
     "text": [
      "Failed to retrieve datatypes: 400, {\"status\" : \"400\", \"message\" : \"The token parameter provided is not valid.\"}\n"
     ]
    }
   ],
   "execution_count": 7
  },
  {
   "cell_type": "markdown",
   "id": "a2dda3fe",
   "metadata": {},
   "source": [
    "### What Geographic Categories are available in the GHCND?"
   ]
  },
  {
   "cell_type": "code",
   "execution_count": 68,
   "id": "af70d7bf",
   "metadata": {},
   "outputs": [
    {
     "name": "stdout",
     "output_type": "stream",
     "text": [
      "ID: CITY - Name: City - Description: No description available\n",
      "ID: CLIM_DIV - Name: Climate Division - Description: No description available\n",
      "ID: CLIM_REG - Name: Climate Region - Description: No description available\n",
      "ID: CNTRY - Name: Country - Description: No description available\n",
      "ID: CNTY - Name: County - Description: No description available\n",
      "ID: HYD_ACC - Name: Hydrologic Accounting Unit - Description: No description available\n",
      "ID: HYD_CAT - Name: Hydrologic Cataloging Unit - Description: No description available\n",
      "ID: HYD_REG - Name: Hydrologic Region - Description: No description available\n",
      "ID: HYD_SUB - Name: Hydrologic Subregion - Description: No description available\n",
      "ID: ST - Name: State - Description: No description available\n",
      "ID: US_TERR - Name: US Territory - Description: No description available\n",
      "ID: ZIP - Name: Zip Code - Description: No description available\n"
     ]
    }
   ],
   "source": [
    "# Base URL for the locationcategories endpoint\n",
    "locationcategories_url = f\"https://www.ncei.noaa.gov/cdo-web/api/v2/locationcategories\"\n",
    "\n",
    "# Define the parameters to filter by the dataset ID\n",
    "params = {\n",
    "    'datasetid': dataset_id\n",
    "}\n",
    "\n",
    "# Make the request to the API to get location categories for the specified dataset\n",
    "response = requests.get(locationcategories_url, headers=headers, params=params)\n",
    "\n",
    "# Check if the request was successful\n",
    "if response.status_code == 200:\n",
    "    # Parse the JSON response\n",
    "    locationcategories = response.json().get('results', [])\n",
    "    \n",
    "    # Print available location categories for the specified dataset\n",
    "    for locationcategory in locationcategories:\n",
    "        print(f\"ID: {locationcategory.get('id', 'N/A')} - Name: {locationcategory.get('name', 'N/A')} - Description: {locationcategory.get('description', 'No description available')}\")\n",
    "else:\n",
    "    print(f\"Failed to retrieve location categories: {response.status_code}, {response.text}\")"
   ]
  },
  {
   "cell_type": "markdown",
   "id": "908092fb",
   "metadata": {},
   "source": [
    "### Gathering Data\n",
    "\n",
    "Let's pull some precipipation (PRCP) data for the zip codes covered by the longitudinal survey.  First, let's loop through all zip codes included in the survey administration area.  This can create problems for the server some times, so we are batching the zip codes and putting a 1 second delay between requests.  It may take a while to download the data."
   ]
  },
  {
   "cell_type": "code",
   "execution_count": 69,
   "id": "8296f538",
   "metadata": {},
   "outputs": [
    {
     "data": {
      "text/html": [
       "<div>\n",
       "<style scoped>\n",
       "    .dataframe tbody tr th:only-of-type {\n",
       "        vertical-align: middle;\n",
       "    }\n",
       "\n",
       "    .dataframe tbody tr th {\n",
       "        vertical-align: top;\n",
       "    }\n",
       "\n",
       "    .dataframe thead th {\n",
       "        text-align: right;\n",
       "    }\n",
       "</style>\n",
       "<table border=\"1\" class=\"dataframe\">\n",
       "  <thead>\n",
       "    <tr style=\"text-align: right;\">\n",
       "      <th></th>\n",
       "      <th>date</th>\n",
       "      <th>datatype</th>\n",
       "      <th>station</th>\n",
       "      <th>attributes</th>\n",
       "      <th>value</th>\n",
       "      <th>zip_code</th>\n",
       "    </tr>\n",
       "  </thead>\n",
       "  <tbody>\n",
       "    <tr>\n",
       "      <th>0</th>\n",
       "      <td>2024-01-01T00:00:00</td>\n",
       "      <td>PRCP</td>\n",
       "      <td>GHCND:USC00042713</td>\n",
       "      <td>,,7,0800</td>\n",
       "      <td>0.0</td>\n",
       "      <td>92243</td>\n",
       "    </tr>\n",
       "    <tr>\n",
       "      <th>1</th>\n",
       "      <td>2024-01-01T00:00:00</td>\n",
       "      <td>PRCP</td>\n",
       "      <td>GHCND:USW00023199</td>\n",
       "      <td>,,W,</td>\n",
       "      <td>0.0</td>\n",
       "      <td>92243</td>\n",
       "    </tr>\n",
       "    <tr>\n",
       "      <th>2</th>\n",
       "      <td>2024-01-02T00:00:00</td>\n",
       "      <td>PRCP</td>\n",
       "      <td>GHCND:USC00042713</td>\n",
       "      <td>,,7,0800</td>\n",
       "      <td>0.0</td>\n",
       "      <td>92243</td>\n",
       "    </tr>\n",
       "    <tr>\n",
       "      <th>3</th>\n",
       "      <td>2024-01-03T00:00:00</td>\n",
       "      <td>PRCP</td>\n",
       "      <td>GHCND:USC00042713</td>\n",
       "      <td>,,7,0800</td>\n",
       "      <td>0.0</td>\n",
       "      <td>92243</td>\n",
       "    </tr>\n",
       "    <tr>\n",
       "      <th>4</th>\n",
       "      <td>2024-01-03T00:00:00</td>\n",
       "      <td>PRCP</td>\n",
       "      <td>GHCND:USW00023199</td>\n",
       "      <td>,,W,</td>\n",
       "      <td>0.3</td>\n",
       "      <td>92243</td>\n",
       "    </tr>\n",
       "  </tbody>\n",
       "</table>\n",
       "</div>"
      ],
      "text/plain": [
       "                  date datatype            station attributes  value  zip_code\n",
       "0  2024-01-01T00:00:00     PRCP  GHCND:USC00042713   ,,7,0800    0.0     92243\n",
       "1  2024-01-01T00:00:00     PRCP  GHCND:USW00023199       ,,W,    0.0     92243\n",
       "2  2024-01-02T00:00:00     PRCP  GHCND:USC00042713   ,,7,0800    0.0     92243\n",
       "3  2024-01-03T00:00:00     PRCP  GHCND:USC00042713   ,,7,0800    0.0     92243\n",
       "4  2024-01-03T00:00:00     PRCP  GHCND:USW00023199       ,,W,    0.3     92243"
      ]
     },
     "execution_count": 69,
     "metadata": {},
     "output_type": "execute_result"
    }
   ],
   "source": [
    "# Base URL for the data endpoint\n",
    "base_url = \"https://www.ncei.noaa.gov/cdo-web/api/v2/data\"\n",
    "\n",
    "# Define the headers with the token\n",
    "headers = {\n",
    "    'token': api_token\n",
    "}\n",
    "\n",
    "# List of zip codes\n",
    "zip_codes = [92243]\n",
    "\n",
    "# Define the parameters\n",
    "params = {\n",
    "    'datasetid': 'GHCND',\n",
    "    'startdate': '2024-01-01',\n",
    "    'enddate': '2024-04-30',\n",
    "    'limit': 1000,\n",
    "    'datatypeid': ['PRCP'],\n",
    "    'units': 'metric'\n",
    "}\n",
    "\n",
    "# List to store all the data entries\n",
    "all_data = []\n",
    "\n",
    "# Loop through each ZIP code and make the API request\n",
    "batch_size = 5  # Number of requests per second allowed\n",
    "for i in range(0, len(zip_codes), batch_size):\n",
    "    batch = zip_codes[i:i + batch_size]\n",
    "    for zip_code in batch:\n",
    "        params['locationid'] = f'ZIP:{zip_code}'\n",
    "        response = requests.get(base_url, headers=headers, params=params)\n",
    "        \n",
    "        if response.status_code == 200:\n",
    "            data = response.json().get('results', [])\n",
    "            for entry in data:\n",
    "                entry['zip_code'] = zip_code  # Add ZIP code to each entry\n",
    "                all_data.append(entry)\n",
    "        else:\n",
    "            print(f\"Failed to retrieve data for ZIP code {zip_code}: {response.status_code}\")\n",
    "    \n",
    "    # Delay after each batch\n",
    "    time.sleep(1)  # Sleep for 1 second to ensure we don't exceed 5 requests per second\n",
    "\n",
    "# Convert the collected data to a DataFrame\n",
    "df = pd.DataFrame(all_data)\n",
    "\n",
    "# Display the first few rows of the DataFrame\n",
    "df.head()"
   ]
  },
  {
   "cell_type": "markdown",
   "id": "c45f3ac4",
   "metadata": {},
   "source": [
    "## Zip Codes\n",
    "\n",
    "Now you try it using the zip code for the survey area in Southern California."
   ]
  },
  {
   "cell_type": "code",
   "execution_count": 70,
   "id": "482b6b67",
   "metadata": {},
   "outputs": [],
   "source": [
    "# List of zip codes\n",
    "zip_codes = [\n",
    "    90001, 90002, 90003, 90004, 90005, 90006, 90210, 90211, 90212, 90230, 90232, \n",
    "    91701, 91708, 91709, 91710, 91730, 91737, 91739, 91743, 91759, 91901, 91902, \n",
    "    91905, 91910, 91911, 91913, 92007, 92008, 92009, 92010, 92011, 92220, 92222, \n",
    "    92223, 92225, 92227, 92230, 92231, 92232, 92233, 92234, 92236, 92240, 92241, \n",
    "    92243, 92244, 92249, 92250, 92251, 92252, 92253, 92258, 92301, 92307, 92602, \n",
    "    92603, 92604, 92606, 92610, 92612, 92614, 92617, 92618, 92620, 92624, 93001, \n",
    "    93003, 93004, 93010, 93012, 93013, 93015, 93021, 93030, 93033, 93036, 93101, \n",
    "    93105, 93110, 93201, 93202, 93203, 93205, 93206, 93207, 93208, 93212, 93215, \n",
    "    93216, 93219, 93221, 93222, 93223, 93224, 93225, 93226, 93227, 93230, 93232, \n",
    "    93235, 93237, 93238, 93240, 93245, 93247, 93401, 93402, 93405, 93420, 93422, \n",
    "    93424, 93426, 93427, 93428, 93430, 93432, 93433, 93436, 93454, 93460, 93463, \n",
    "    93513, 93514, 93515, 93526, 93541, 93545, 93549, 93601, 93602, 93606, 93607, \n",
    "    93608, 93609, 93610, 93611, 93612, 93616, 93619, 93620, 93623, 93635, 93636, \n",
    "    93637, 93638, 93639, 93661, 93665, 93901, 93905, 93906, 93907, 93908, 93920, \n",
    "    93923, 93924, 93925, 93927, 95023, 95024, 95043, 95301, 95303, 95306, 95312, \n",
    "    95315, 95317, 95322, 95324, 95333, 95338, 95345\n",
    "]"
   ]
  },
  {
   "cell_type": "markdown",
   "id": "006ec19e",
   "metadata": {},
   "source": [
    "### Use the code in Gather Data to pull data for all the zip codes  for the survey area"
   ]
  },
  {
   "cell_type": "code",
   "execution_count": 71,
   "id": "1a6ab93c",
   "metadata": {},
   "outputs": [],
   "source": [
    "#copy and paste from cell \"Gathering Data\" and make the necessary changes\n"
   ]
  },
  {
   "cell_type": "markdown",
   "id": "431677d7",
   "metadata": {},
   "source": [
    "### How many stations per zip code?"
   ]
  },
  {
   "cell_type": "code",
   "execution_count": 72,
   "id": "f25abce0",
   "metadata": {},
   "outputs": [
    {
     "data": {
      "text/html": [
       "<div>\n",
       "<style scoped>\n",
       "    .dataframe tbody tr th:only-of-type {\n",
       "        vertical-align: middle;\n",
       "    }\n",
       "\n",
       "    .dataframe tbody tr th {\n",
       "        vertical-align: top;\n",
       "    }\n",
       "\n",
       "    .dataframe thead th {\n",
       "        text-align: right;\n",
       "    }\n",
       "</style>\n",
       "<table border=\"1\" class=\"dataframe\">\n",
       "  <thead>\n",
       "    <tr style=\"text-align: right;\">\n",
       "      <th></th>\n",
       "      <th>ZIP_CODE</th>\n",
       "      <th>STATION_COUNT</th>\n",
       "    </tr>\n",
       "  </thead>\n",
       "  <tbody>\n",
       "    <tr>\n",
       "      <th>0</th>\n",
       "      <td>92243</td>\n",
       "      <td>2</td>\n",
       "    </tr>\n",
       "  </tbody>\n",
       "</table>\n",
       "</div>"
      ],
      "text/plain": [
       "   ZIP_CODE  STATION_COUNT\n",
       "0     92243              2"
      ]
     },
     "execution_count": 72,
     "metadata": {},
     "output_type": "execute_result"
    }
   ],
   "source": [
    "stations_count_by_zip = df.groupby('zip_code')['station'].nunique().reset_index()\n",
    "\n",
    "# Rename columns for clarity\n",
    "stations_count_by_zip.columns = ['ZIP_CODE', 'STATION_COUNT']\n",
    "\n",
    "# Display the result\n",
    "stations_count_by_zip"
   ]
  },
  {
   "cell_type": "markdown",
   "id": "7948e989",
   "metadata": {},
   "source": [
    "### Where are stations located (by zip code)?"
   ]
  },
  {
   "cell_type": "code",
   "execution_count": 73,
   "id": "e46f937e",
   "metadata": {},
   "outputs": [
    {
     "data": {
      "text/html": [
       "<div>\n",
       "<style scoped>\n",
       "    .dataframe tbody tr th:only-of-type {\n",
       "        vertical-align: middle;\n",
       "    }\n",
       "\n",
       "    .dataframe tbody tr th {\n",
       "        vertical-align: top;\n",
       "    }\n",
       "\n",
       "    .dataframe thead th {\n",
       "        text-align: right;\n",
       "    }\n",
       "</style>\n",
       "<table border=\"1\" class=\"dataframe\">\n",
       "  <thead>\n",
       "    <tr style=\"text-align: right;\">\n",
       "      <th></th>\n",
       "      <th>zip_code</th>\n",
       "      <th>station</th>\n",
       "    </tr>\n",
       "  </thead>\n",
       "  <tbody>\n",
       "    <tr>\n",
       "      <th>0</th>\n",
       "      <td>92243</td>\n",
       "      <td>[GHCND:USC00042713, GHCND:USW00023199, GHCND:U...</td>\n",
       "    </tr>\n",
       "  </tbody>\n",
       "</table>\n",
       "</div>"
      ],
      "text/plain": [
       "   zip_code                                            station\n",
       "0     92243  [GHCND:USC00042713, GHCND:USW00023199, GHCND:U..."
      ]
     },
     "execution_count": 73,
     "metadata": {},
     "output_type": "execute_result"
    }
   ],
   "source": [
    "stations_by_zip = df.groupby('zip_code')['station'].agg(list).reset_index()\n",
    "stations_by_zip"
   ]
  },
  {
   "cell_type": "markdown",
   "id": "a564cb00",
   "metadata": {},
   "source": [
    "### Visualizing the data\n",
    "\n",
    "This will get a little messy with 74 zip codes, but it should show general precipitation trends for this geographic area."
   ]
  },
  {
   "cell_type": "code",
   "execution_count": 74,
   "id": "2046a08a",
   "metadata": {},
   "outputs": [
    {
     "data": {
      "image/png": "[encoded data removed]",
      "text/plain": [
       "<Figure size 1200x600 with 1 Axes>"
      ]
     },
     "metadata": {},
     "output_type": "display_data"
    }
   ],
   "source": [
    "# Convert DATE to datetime format\n",
    "df['date'] = pd.to_datetime(df['date'])\n",
    "\n",
    "# Plotting\n",
    "plt.figure(figsize=(12, 6))\n",
    "for station in df['station'].unique():\n",
    "    station_data = df[df['station'] == station]\n",
    "    plt.plot(station_data['date'], station_data['value'], marker='o', label=station)\n",
    "\n",
    "plt.xlabel('Date')\n",
    "plt.ylabel('Precipitation (mm)')\n",
    "plt.title('Daily Precipitation by Station')\n",
    "plt.legend(title='Station')\n",
    "plt.grid(True)\n",
    "plt.show()"
   ]
  },
  {
   "cell_type": "markdown",
   "id": "651a14e3",
   "metadata": {},
   "source": [
    "## Closing\n",
    "\n",
    "The GHCND is one way to collect point-based precipation amounts, and other weather variables, as recorded daily by weather stations.  Obviously, a certain amount of cleaning is still necessary (perhaps selecting one station per zip code; alternatively, one couple identify stations by zip and pull data by station), but this data might be useful for long-term case studies.  In this case, we can see actual precipitation amounts experienced by survey respondents."
   ]
  }
 ],
 "metadata": {
  "kernelspec": {
   "display_name": "Python 3 (ipykernel)",
   "language": "python",
   "name": "python3"
  },
  "language_info": {
   "codemirror_mode": {
    "name": "ipython",
    "version": 3
   },
   "file_extension": ".py",
   "mimetype": "text/x-python",
   "name": "python",
   "nbconvert_exporter": "python",
   "pygments_lexer": "ipython3",
   "version": "3.11.3"
  }
 },
 "nbformat": 4,
 "nbformat_minor": 5
}
